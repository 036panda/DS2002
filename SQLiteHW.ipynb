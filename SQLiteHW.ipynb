{
 "cells": [
  {
   "cell_type": "markdown",
   "metadata": {},
   "source": [
    "***1. Set Up the Database***\n",
    "\n",
    "1. Create a connection to an SQLite database file named student_grades.db. If the\n",
    "database file does not exist, SQLite will automatically create it.\n",
    "2. Create a cursor object to interact with the database"
   ]
  },
  {
   "cell_type": "code",
   "execution_count": 16,
   "metadata": {},
   "outputs": [],
   "source": [
    "import sqlite3\n",
    "connection = sqlite3.connect('student_grades.db')\n",
    "cursor = connection.cursor()"
   ]
  },
  {
   "cell_type": "markdown",
   "metadata": {},
   "source": [
    "***2. Create the Necessary Tables***\n",
    "You will need two tables for this assignment:\n",
    "• students: A table to store student information.\n",
    "• grades: A table to store student grades for different subjects.\n",
    "The structure of the tables should be as follows:\n",
    "students table:\n",
    "• student_id (INTEGER, Primary Key, Auto-increment)\n",
    "• first_name (TEXT)\n",
    "• last_name (TEXT)\n",
    "grades table:\n",
    "• grade_id (INTEGER, Primary Key, Auto-increment)\n",
    "• student_id (INTEGER, Foreign Key linked to students table)\n",
    "• subject (TEXT)\n",
    "• grade (INTEGER)"
   ]
  },
  {
   "cell_type": "code",
   "execution_count": 19,
   "metadata": {},
   "outputs": [
    {
     "data": {
      "text/plain": [
       "<sqlite3.Cursor at 0x11350da40>"
      ]
     },
     "execution_count": 19,
     "metadata": {},
     "output_type": "execute_result"
    }
   ],
   "source": [
    "cursor.execute('''\n",
    "CREATE TABLE IF NOT EXISTS students(\n",
    "    student_id INTEGER PRIMARY KEY AUTOINCREMENT,\n",
    "    first_name TEXT,\n",
    "    last_name TEXT)\n",
    "''')\n",
    "\n",
    "cursor.execute('''\n",
    "CREATE TABLE IF NOT EXISTS grades(\n",
    "    grade_id INTEGER PRIMARY KEY AUTOINCREMENT,\n",
    "    student_id INTEGER,\n",
    "    subject TEXT,\n",
    "    grade INTEGER,\n",
    "    FOREIGN KEY (student_id) REFERENCES students (student_id)\n",
    "    )\n",
    "''')\n"
   ]
  },
  {
   "cell_type": "markdown",
   "metadata": {},
   "source": [
    "***3. Insert Data into the Tables***\n",
    "Insert at least 5 students into the students table and at least 3 grades for each student into\n",
    "the grades table.\n",
    "Sample data for the students table:\n",
    "student_id first_name last_name\n",
    "1. Alice Johnson\n",
    "2. Bob Smith\n",
    "3. Carol White\n",
    "4. David Brown\n",
    "5. Eve Davis\n",
    "Sample data for the grades table:\n",
    "grade_id student_id subject grade\n",
    "1. 1 Math 95\n",
    "2. 1 English 88\n",
    "3. 1 History 90\n",
    "4. 2 Math 82\n",
    "5. 2 English 76\n",
    "6. 2 History 85\n"
   ]
  },
  {
   "cell_type": "code",
   "execution_count": 21,
   "metadata": {},
   "outputs": [],
   "source": [
    "students_data = [\n",
    "    (1,\"Alice\",\"Johnson\"),\n",
    "    (2,\"Bob\",\"Smith\"),\n",
    "    (3,\"Carol\",\"White\"),\n",
    "    (4,\"David\",\"Brown\"),\n",
    "    (5,\"Eve\",\"Davis\")\n",
    "]\n",
    "\n",
    "cursor.executemany('''\n",
    "INSERT INTO students (student_id, first_name, last_name) VALUES (?, ?, ?)\n",
    "''', students_data)\n",
    "\n",
    "connection.commit()"
   ]
  },
  {
   "cell_type": "code",
   "execution_count": 23,
   "metadata": {},
   "outputs": [],
   "source": [
    "grades_data = [\n",
    "    (1,1,\"Math\",95),\n",
    "    (2,1,\"English\",88),\n",
    "    (3,1,\"History\",90),\n",
    "    (4,2,\"Math\",85),\n",
    "    (5,2,\"English\",76),\n",
    "    (6,2,\"History\",85),\n",
    "    (7,3,\"Math\",76),\n",
    "    (8,3,\"English\",98),\n",
    "    (9,3,\"History\",84),\n",
    "    (10,4,\"Math\",90),\n",
    "    (11,4,\"English\",96),\n",
    "    (12,4,\"History\",88),\n",
    "    (13,5,\"Math\",99),\n",
    "    (14,5,\"English\",97),\n",
    "    (15,5,\"History\",83)\n",
    "]\n",
    "\n",
    "cursor.executemany('''\n",
    "INSERT INTO grades (grade_id, student_id, subject, grade) VALUES (?, ?, ?, ?)\n",
    "''', grades_data)\n",
    "\n",
    "connection.commit()"
   ]
  },
  {
   "cell_type": "markdown",
   "metadata": {},
   "source": [
    "***4. Perform SQL Queries***\n",
    "Write SQL queries to answer the following questions:\n",
    "1. Retrieve all students' names and their grades.\n",
    "2. Find the average grade for each student.\n",
    "3. Find the student with the highest average grade.\n",
    "4. Find the average grade for the Math subject.\n",
    "5. List all students who scored above 90 in any subject."
   ]
  },
  {
   "cell_type": "code",
   "execution_count": 31,
   "metadata": {},
   "outputs": [
    {
     "name": "stdout",
     "output_type": "stream",
     "text": [
      "All Student's names and grades:\n",
      "('Alice', 'Johnson', 95)\n",
      "('Alice', 'Johnson', 88)\n",
      "('Alice', 'Johnson', 90)\n",
      "('Bob', 'Smith', 85)\n",
      "('Bob', 'Smith', 76)\n",
      "('Bob', 'Smith', 85)\n",
      "('Carol', 'White', 76)\n",
      "('Carol', 'White', 98)\n",
      "('Carol', 'White', 84)\n",
      "('David', 'Brown', 90)\n",
      "('David', 'Brown', 96)\n",
      "('David', 'Brown', 88)\n",
      "('Eve', 'Davis', 99)\n",
      "('Eve', 'Davis', 97)\n",
      "('Eve', 'Davis', 83)\n"
     ]
    }
   ],
   "source": [
    "cursor.execute('''SELECT students.first_name, students.last_name, grades.grade FROM Students\n",
    "    JOIN grades ON students.student_id = grades.student_id\n",
    "            ''')\n",
    "rows = cursor.fetchall()\n",
    "\n",
    "print(\"All Student's names and grades:\")\n",
    "for row in rows:\n",
    "    print(row)"
   ]
  },
  {
   "cell_type": "code",
   "execution_count": 49,
   "metadata": {},
   "outputs": [
    {
     "name": "stdout",
     "output_type": "stream",
     "text": [
      "Average Grades\n",
      "('Alice', 'Johnson', 91.0)\n",
      "('Bob', 'Smith', 82.0)\n",
      "('Carol', 'White', 86.0)\n",
      "('David', 'Brown', 91.33333333333333)\n",
      "('Eve', 'Davis', 93.0)\n"
     ]
    }
   ],
   "source": [
    "cursor.execute('''\n",
    "    SELECT \n",
    "        students.first_name,\n",
    "        students.last_name,\n",
    "        AVG(grades.grade)\n",
    "    FROM students\n",
    "    JOIN grades ON students.student_id = grades.student_id\n",
    "    GROUP BY students.student_id\n",
    "''')\n",
    "\n",
    "rows = cursor.fetchall()\n",
    "print(\"Average Grades\")\n",
    "for row in rows:\n",
    "    print(row)"
   ]
  },
  {
   "cell_type": "code",
   "execution_count": 67,
   "metadata": {},
   "outputs": [
    {
     "name": "stdout",
     "output_type": "stream",
     "text": [
      "Average Grades\n"
     ]
    },
    {
     "data": {
      "text/plain": [
       "('Eve', 'Davis', 93.0)"
      ]
     },
     "execution_count": 67,
     "metadata": {},
     "output_type": "execute_result"
    }
   ],
   "source": [
    "cursor.execute('''\n",
    "    SELECT \n",
    "        students.first_name,students.last_name,\n",
    "        AVG(grades.grade)\n",
    "    FROM students\n",
    "    JOIN grades ON students.student_id = grades.student_id\n",
    "    GROUP BY students.first_name\n",
    "    ORDER BY grades.grade DESC\n",
    "    LIMIT 1\n",
    "''')\n",
    "\n",
    "average_grades = cursor.fetchone()\n",
    "print(\"Average Grades\")\n",
    "average_grades"
   ]
  },
  {
   "cell_type": "code",
   "execution_count": 79,
   "metadata": {},
   "outputs": [
    {
     "data": {
      "text/plain": [
       "('Math', 89.0)"
      ]
     },
     "execution_count": 79,
     "metadata": {},
     "output_type": "execute_result"
    }
   ],
   "source": [
    "cursor.execute('''\n",
    "    SELECT \n",
    "        subject,\n",
    "        AVG(grades.grade)\n",
    "    FROM grades\n",
    "    WHERE subject =\"Math\"  \n",
    "''')\n",
    "\n",
    "AVG_Math = cursor.fetchone()\n",
    "AVG_Math"
   ]
  },
  {
   "cell_type": "code",
   "execution_count": 83,
   "metadata": {},
   "outputs": [
    {
     "data": {
      "text/plain": [
       "[('Alice', 'Johnson', 95),\n",
       " ('Carol', 'White', 98),\n",
       " ('David', 'Brown', 96),\n",
       " ('Eve', 'Davis', 99),\n",
       " ('Eve', 'Davis', 97)]"
      ]
     },
     "execution_count": 83,
     "metadata": {},
     "output_type": "execute_result"
    }
   ],
   "source": [
    "cursor.execute('''\n",
    "    SELECT \n",
    "        s.first_name,\n",
    "        s.last_name,\n",
    "        g.grade\n",
    "    FROM students s\n",
    "    JOIN grades g ON s.student_id = g.student_id \n",
    "    WHERE grade>90  \n",
    "''')\n",
    "smartkids = cursor.fetchall()\n",
    "smartkids"
   ]
  },
  {
   "cell_type": "markdown",
   "metadata": {},
   "source": [
    "***5. Load Data into Pandas***\n",
    "1. Use Pandas to load the data from the students and grades tables into DataFrames.\n",
    "2. Use JOIN queries to combine the data from both tables into a single DataFrame that\n",
    "includes each student's name, subject, and grade.\n",
    "3. Visualize the data with Matplotlib:\n",
    "o Plot the average grades for each student.\n",
    "o Create a bar chart showing the average grade for each subject"
   ]
  },
  {
   "cell_type": "code",
   "execution_count": 98,
   "metadata": {},
   "outputs": [],
   "source": [
    "import numpy as np  \n",
    "import pandas as pd \n",
    "import matplotlib.pyplot as plt  \n",
    "\n",
    "students_df = pd.read_sql_query(\"SELECT * FROM students\", connection)\n",
    "grades_df = pd.read_sql_query(\"SELECT * FROM grades\", connection)\n",
    "#students_df.head()"
   ]
  },
  {
   "cell_type": "code",
   "execution_count": 113,
   "metadata": {},
   "outputs": [
    {
     "data": {
      "text/html": [
       "<div>\n",
       "<style scoped>\n",
       "    .dataframe tbody tr th:only-of-type {\n",
       "        vertical-align: middle;\n",
       "    }\n",
       "\n",
       "    .dataframe tbody tr th {\n",
       "        vertical-align: top;\n",
       "    }\n",
       "\n",
       "    .dataframe thead th {\n",
       "        text-align: right;\n",
       "    }\n",
       "</style>\n",
       "<table border=\"1\" class=\"dataframe\">\n",
       "  <thead>\n",
       "    <tr style=\"text-align: right;\">\n",
       "      <th></th>\n",
       "      <th>first_name</th>\n",
       "      <th>last_name</th>\n",
       "      <th>subject</th>\n",
       "      <th>grade</th>\n",
       "    </tr>\n",
       "  </thead>\n",
       "  <tbody>\n",
       "    <tr>\n",
       "      <th>0</th>\n",
       "      <td>Alice</td>\n",
       "      <td>Johnson</td>\n",
       "      <td>Math</td>\n",
       "      <td>95</td>\n",
       "    </tr>\n",
       "    <tr>\n",
       "      <th>1</th>\n",
       "      <td>Alice</td>\n",
       "      <td>Johnson</td>\n",
       "      <td>English</td>\n",
       "      <td>88</td>\n",
       "    </tr>\n",
       "    <tr>\n",
       "      <th>2</th>\n",
       "      <td>Alice</td>\n",
       "      <td>Johnson</td>\n",
       "      <td>History</td>\n",
       "      <td>90</td>\n",
       "    </tr>\n",
       "    <tr>\n",
       "      <th>3</th>\n",
       "      <td>Bob</td>\n",
       "      <td>Smith</td>\n",
       "      <td>Math</td>\n",
       "      <td>85</td>\n",
       "    </tr>\n",
       "    <tr>\n",
       "      <th>4</th>\n",
       "      <td>Bob</td>\n",
       "      <td>Smith</td>\n",
       "      <td>English</td>\n",
       "      <td>76</td>\n",
       "    </tr>\n",
       "    <tr>\n",
       "      <th>5</th>\n",
       "      <td>Bob</td>\n",
       "      <td>Smith</td>\n",
       "      <td>History</td>\n",
       "      <td>85</td>\n",
       "    </tr>\n",
       "    <tr>\n",
       "      <th>6</th>\n",
       "      <td>Carol</td>\n",
       "      <td>White</td>\n",
       "      <td>Math</td>\n",
       "      <td>76</td>\n",
       "    </tr>\n",
       "    <tr>\n",
       "      <th>7</th>\n",
       "      <td>Carol</td>\n",
       "      <td>White</td>\n",
       "      <td>English</td>\n",
       "      <td>98</td>\n",
       "    </tr>\n",
       "    <tr>\n",
       "      <th>8</th>\n",
       "      <td>Carol</td>\n",
       "      <td>White</td>\n",
       "      <td>History</td>\n",
       "      <td>84</td>\n",
       "    </tr>\n",
       "    <tr>\n",
       "      <th>9</th>\n",
       "      <td>David</td>\n",
       "      <td>Brown</td>\n",
       "      <td>Math</td>\n",
       "      <td>90</td>\n",
       "    </tr>\n",
       "    <tr>\n",
       "      <th>10</th>\n",
       "      <td>David</td>\n",
       "      <td>Brown</td>\n",
       "      <td>English</td>\n",
       "      <td>96</td>\n",
       "    </tr>\n",
       "    <tr>\n",
       "      <th>11</th>\n",
       "      <td>David</td>\n",
       "      <td>Brown</td>\n",
       "      <td>History</td>\n",
       "      <td>88</td>\n",
       "    </tr>\n",
       "    <tr>\n",
       "      <th>12</th>\n",
       "      <td>Eve</td>\n",
       "      <td>Davis</td>\n",
       "      <td>Math</td>\n",
       "      <td>99</td>\n",
       "    </tr>\n",
       "    <tr>\n",
       "      <th>13</th>\n",
       "      <td>Eve</td>\n",
       "      <td>Davis</td>\n",
       "      <td>English</td>\n",
       "      <td>97</td>\n",
       "    </tr>\n",
       "    <tr>\n",
       "      <th>14</th>\n",
       "      <td>Eve</td>\n",
       "      <td>Davis</td>\n",
       "      <td>History</td>\n",
       "      <td>83</td>\n",
       "    </tr>\n",
       "  </tbody>\n",
       "</table>\n",
       "</div>"
      ],
      "text/plain": [
       "   first_name last_name  subject  grade\n",
       "0       Alice   Johnson     Math     95\n",
       "1       Alice   Johnson  English     88\n",
       "2       Alice   Johnson  History     90\n",
       "3         Bob     Smith     Math     85\n",
       "4         Bob     Smith  English     76\n",
       "5         Bob     Smith  History     85\n",
       "6       Carol     White     Math     76\n",
       "7       Carol     White  English     98\n",
       "8       Carol     White  History     84\n",
       "9       David     Brown     Math     90\n",
       "10      David     Brown  English     96\n",
       "11      David     Brown  History     88\n",
       "12        Eve     Davis     Math     99\n",
       "13        Eve     Davis  English     97\n",
       "14        Eve     Davis  History     83"
      ]
     },
     "execution_count": 113,
     "metadata": {},
     "output_type": "execute_result"
    }
   ],
   "source": [
    "students_grades = pd.read_sql_query(\"\"\"\n",
    "    SELECT s.first_name, s.last_name, g.subject, g.grade\n",
    "    FROM students s\n",
    "    JOIN grades g ON s.student_id = g.student_id;\n",
    "\"\"\", connection)\n",
    "\n",
    "students_grades"
   ]
  },
  {
   "cell_type": "code",
   "execution_count": 117,
   "metadata": {},
   "outputs": [
    {
     "data": {
      "text/html": [
       "<div>\n",
       "<style scoped>\n",
       "    .dataframe tbody tr th:only-of-type {\n",
       "        vertical-align: middle;\n",
       "    }\n",
       "\n",
       "    .dataframe tbody tr th {\n",
       "        vertical-align: top;\n",
       "    }\n",
       "\n",
       "    .dataframe thead th {\n",
       "        text-align: right;\n",
       "    }\n",
       "</style>\n",
       "<table border=\"1\" class=\"dataframe\">\n",
       "  <thead>\n",
       "    <tr style=\"text-align: right;\">\n",
       "      <th></th>\n",
       "      <th>first_name</th>\n",
       "      <th>last_name</th>\n",
       "      <th>grade</th>\n",
       "    </tr>\n",
       "  </thead>\n",
       "  <tbody>\n",
       "    <tr>\n",
       "      <th>0</th>\n",
       "      <td>Alice</td>\n",
       "      <td>Johnson</td>\n",
       "      <td>91.000000</td>\n",
       "    </tr>\n",
       "    <tr>\n",
       "      <th>1</th>\n",
       "      <td>Bob</td>\n",
       "      <td>Smith</td>\n",
       "      <td>82.000000</td>\n",
       "    </tr>\n",
       "    <tr>\n",
       "      <th>2</th>\n",
       "      <td>Carol</td>\n",
       "      <td>White</td>\n",
       "      <td>86.000000</td>\n",
       "    </tr>\n",
       "    <tr>\n",
       "      <th>3</th>\n",
       "      <td>David</td>\n",
       "      <td>Brown</td>\n",
       "      <td>91.333333</td>\n",
       "    </tr>\n",
       "    <tr>\n",
       "      <th>4</th>\n",
       "      <td>Eve</td>\n",
       "      <td>Davis</td>\n",
       "      <td>93.000000</td>\n",
       "    </tr>\n",
       "  </tbody>\n",
       "</table>\n",
       "</div>"
      ],
      "text/plain": [
       "  first_name last_name      grade\n",
       "0      Alice   Johnson  91.000000\n",
       "1        Bob     Smith  82.000000\n",
       "2      Carol     White  86.000000\n",
       "3      David     Brown  91.333333\n",
       "4        Eve     Davis  93.000000"
      ]
     },
     "execution_count": 117,
     "metadata": {},
     "output_type": "execute_result"
    }
   ],
   "source": [
    "avg_grades = students_grades.groupby(['first_name', 'last_name'])['grade'].mean().reset_index()\n",
    "subject_avg_grades = students_grades.groupby('subject')['grade'].mean().reset_index()\n",
    "avg_grades"
   ]
  },
  {
   "cell_type": "code",
   "execution_count": 125,
   "metadata": {},
   "outputs": [
    {
     "data": {
      "image/png": "[encoded data removed]",
      "text/plain": [
       "<Figure size 640x480 with 1 Axes>"
      ]
     },
     "metadata": {},
     "output_type": "display_data"
    }
   ],
   "source": [
    "plt.bar(avg_grades['first_name'] + ' ' + avg_grades['last_name'], avg_grades['grade'])\n",
    "plt.show()"
   ]
  },
  {
   "cell_type": "code",
   "execution_count": 133,
   "metadata": {},
   "outputs": [
    {
     "data": {
      "image/png": "[encoded data removed]",
      "text/plain": [
       "<Figure size 640x480 with 1 Axes>"
      ]
     },
     "metadata": {},
     "output_type": "display_data"
    }
   ],
   "source": [
    "plt.bar(subject_avg_grades['subject'],subject_avg_grades['grade'],color=\"pink\")\n",
    "plt.show()"
   ]
  },
  {
   "cell_type": "code",
   "execution_count": null,
   "metadata": {},
   "outputs": [],
   "source": []
  }
 ],
 "metadata": {
  "kernelspec": {
   "display_name": "Python 3 (ipykernel)",
   "language": "python",
   "name": "python3"
  },
  "language_info": {
   "codemirror_mode": {
    "name": "ipython",
    "version": 3
   },
   "file_extension": ".py",
   "mimetype": "text/x-python",
   "name": "python",
   "nbconvert_exporter": "python",
   "pygments_lexer": "ipython3",
   "version": "3.12.4"
  }
 },
 "nbformat": 4,
 "nbformat_minor": 4
}

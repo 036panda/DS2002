{
 "cells": [
  {
   "cell_type": "markdown",
   "metadata": {},
   "source": [
    "Challenge:\n",
    "You have seen some examples of how to interact with JSON, CSV and make API Calls. Take\n",
    "some time to explore the YAHOO Finance Guide at https://financeapi.net/ which shows you\n",
    "endpoints for calling information. Your job is to code a Python Program that does the following\n",
    "things:\n",
    "1. Takes user input for a stock (using the Ticker Symbol): IE with the input() command\n",
    "2. You will display back the user: Ticker Name, Full Name of the Stock, Current Market\n",
    "Price, Target Mean Price, 52 week high and 52 week low. Also, output 5 of the current\n",
    "trending stock.\n",
    "3. Put that data in a DataFrame and then store that to a CSV file\n",
    "4. Handle Errors (IE, the stock doesn’t exist and/or the API is not returning information)\n",
    "You will have to read the documentation and figure out which modules to call to get the data\n",
    "that you need. You will need to make more than one call to this API. Use the examples in our\n",
    "Zoom Session to guide you, but the documentation will be enough. Post your code to GitHub"
   ]
  },
  {
   "cell_type": "code",
   "execution_count": 4,
   "metadata": {},
   "outputs": [],
   "source": [
    "import json\n",
    "import pandas as pd\n",
    "import json\n",
    "import requests\n",
    "from dotenv import load_dotenv\n",
    "import os"
   ]
  },
  {
   "cell_type": "code",
   "execution_count": 1,
   "metadata": {},
   "outputs": [],
   "source": [
    "stock=input()"
   ]
  },
  {
   "cell_type": "code",
   "execution_count": 2,
   "metadata": {},
   "outputs": [
    {
     "name": "stdout",
     "output_type": "stream",
     "text": [
      "The Stock we will research is:amzn\n"
     ]
    }
   ],
   "source": [
    "print(\"The Stock we will research is:\" + stock)"
   ]
  },
  {
   "cell_type": "code",
   "execution_count": 5,
   "metadata": {},
   "outputs": [
    {
     "name": "stdout",
     "output_type": "stream",
     "text": [
      "{\"quoteResponse\":{\"result\":[{\"language\":\"en-US\",\"region\":\"US\",\"quoteType\":\"EQUITY\",\"typeDisp\":\"Equity\",\"quoteSourceName\":\"Nasdaq Real Time Price\",\"triggerable\":true,\"customPriceAlertConfidence\":\"HIGH\",\"fiftyTwoWeekHighChangePercent\":-0.05262576,\"fiftyTwoWeekLow\":118.35,\"fiftyTwoWeekHigh\":201.2,\"fiftyTwoWeekChangePercent\":52.825844,\"currency\":\"USD\",\"exchange\":\"NMS\",\"shortName\":\"Amazon.com, Inc.\",\"longName\":\"Amazon.com, Inc.\",\"messageBoardId\":\"finmb_18749\",\"exchangeTimezoneName\":\"America/New_York\",\"exchangeTimezoneShortName\":\"EDT\",\"gmtOffSetMilliseconds\":-14400000,\"market\":\"us_market\",\"esgPopulated\":false,\"marketState\":\"REGULAR\",\"regularMarketChangePercent\":-0.9963665,\"regularMarketPrice\":190.6117,\"regularMarketChange\":-1.9183044,\"regularMarketTime\":1727370208,\"regularMarketDayHigh\":194.53,\"regularMarketDayRange\":\"189.58 - 194.53\",\"regularMarketDayLow\":189.58,\"regularMarketVolume\":18262684,\"regularMarketPreviousClose\":192.53,\"bid\":190.53,\"ask\":190.73,\"bidSize\":2,\"askSize\":2,\"fullExchangeName\":\"NasdaqGS\",\"financialCurrency\":\"USD\",\"regularMarketOpen\":194.22,\"averageDailyVolume3Month\":41927450,\"averageDailyVolume10Day\":39341710,\"fiftyTwoWeekLowChange\":72.261696,\"fiftyTwoWeekLowChangePercent\":0.6105762,\"fiftyTwoWeekRange\":\"118.35 - 201.2\",\"fiftyTwoWeekHighChange\":-10.588303,\"earningsTimestamp\":1722542460,\"earningsTimestampStart\":1729767540,\"earningsTimestampEnd\":1730116800,\"earningsCallTimestampStart\":1722547800,\"earningsCallTimestampEnd\":1722547800,\"isEarningsDateEstimate\":true,\"trailingAnnualDividendRate\":0.0,\"trailingPE\":45.38374,\"trailingAnnualDividendYield\":0.0,\"epsTrailingTwelveMonths\":4.2,\"epsForward\":5.82,\"epsCurrentYear\":4.73,\"priceEpsCurrentYear\":40.298454,\"sharesOutstanding\":10495599616,\"bookValue\":22.54,\"fiftyDayAverage\":178.8666,\"fiftyDayAverageChange\":11.745102,\"fiftyDayAverageChangePercent\":0.06566403,\"twoHundredDayAverage\":175.6694,\"twoHundredDayAverageChange\":14.942291,\"twoHundredDayAverageChangePercent\":0.08505916,\"marketCap\":2000584048640,\"forwardPE\":32.75115,\"priceToBook\":8.456596,\"sourceInterval\":15,\"exchangeDataDelayedBy\":0,\"averageAnalystRating\":\"1.8 - Buy\",\"tradeable\":false,\"cryptoTradeable\":false,\"hasPrePostMarketData\":true,\"firstTradeDateMilliseconds\":863703000000,\"priceHint\":2,\"displayName\":\"Amazon.com\",\"symbol\":\"AMZN\"}],\"error\":null}}\n"
     ]
    }
   ],
   "source": [
    "load_dotenv()\n",
    "apikey=os.getenv('API_KEY')\n",
    "\n",
    "url = \"https://yfapi.net/v6/finance/quote\"\n",
    "\n",
    "querystring = {\"symbols\":stock}\n",
    "\n",
    "headers = {\n",
    "    'x-api-key': apikey\n",
    "    }\n",
    "\n",
    "response = requests.request(\"GET\", url, headers=headers, params=querystring)\n",
    "\n",
    "print(response.text)"
   ]
  },
  {
   "cell_type": "code",
   "execution_count": null,
   "metadata": {},
   "outputs": [],
   "source": []
  }
 ],
 "metadata": {
  "kernelspec": {
   "display_name": "Python 3",
   "language": "python",
   "name": "python3"
  },
  "language_info": {
   "codemirror_mode": {
    "name": "ipython",
    "version": 3
   },
   "file_extension": ".py",
   "mimetype": "text/x-python",
   "name": "python",
   "nbconvert_exporter": "python",
   "pygments_lexer": "ipython3",
   "version": "3.11.2"
  }
 },
 "nbformat": 4,
 "nbformat_minor": 2
}

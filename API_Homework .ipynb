{
 "cells": [
  {
   "cell_type": "markdown",
   "metadata": {},
   "source": [
    "Challenge:\n",
    "You have seen some examples of how to interact with JSON, CSV and make API Calls. Take\n",
    "some time to explore the YAHOO Finance Guide at https://financeapi.net/ which shows you\n",
    "endpoints for calling information. Your job is to code a Python Program that does the following\n",
    "things:\n",
    "1. Takes user input for a stock (using the Ticker Symbol): IE with the input() command\n",
    "2. You will display back the user: Ticker Name, Full Name of the Stock, Current Market\n",
    "Price, Target Mean Price, 52 week high and 52 week low. Also, output 5 of the current\n",
    "trending stock.\n",
    "3. Put that data in a DataFrame and then store that to a CSV file\n",
    "4. Handle Errors (IE, the stock doesn’t exist and/or the API is not returning information)\n",
    "You will have to read the documentation and figure out which modules to call to get the data\n",
    "that you need. You will need to make more than one call to this API. Use the examples in our\n",
    "Zoom Session to guide you, but the documentation will be enough. Post your code to GitHub"
   ]
  },
  {
   "cell_type": "code",
   "execution_count": 2,
   "metadata": {},
   "outputs": [],
   "source": [
    "import json\n",
    "import pandas as pd\n",
    "import json\n",
    "import requests\n",
    "from dotenv import load_dotenv\n",
    "import os"
   ]
  },
  {
   "cell_type": "code",
   "execution_count": 3,
   "metadata": {},
   "outputs": [],
   "source": [
    "stock=input()"
   ]
  },
  {
   "cell_type": "code",
   "execution_count": 4,
   "metadata": {},
   "outputs": [
    {
     "name": "stdout",
     "output_type": "stream",
     "text": [
      "The Stock we will research is:AAPL\n"
     ]
    }
   ],
   "source": [
    "print(\"The Stock we will research is:\" + stock)"
   ]
  },
  {
   "cell_type": "code",
   "execution_count": 25,
   "metadata": {},
   "outputs": [
    {
     "data": {
      "text/plain": [
       "{'quoteResponse': {'result': [{'language': 'en-US',\n",
       "    'region': 'US',\n",
       "    'quoteType': 'EQUITY',\n",
       "    'typeDisp': 'Equity',\n",
       "    'quoteSourceName': 'Nasdaq Real Time Price',\n",
       "    'triggerable': True,\n",
       "    'customPriceAlertConfidence': 'HIGH',\n",
       "    'currency': 'USD',\n",
       "    'exchange': 'NMS',\n",
       "    'shortName': 'Apple Inc.',\n",
       "    'longName': 'Apple Inc.',\n",
       "    'messageBoardId': 'finmb_24937',\n",
       "    'exchangeTimezoneName': 'America/New_York',\n",
       "    'exchangeTimezoneShortName': 'EDT',\n",
       "    'gmtOffSetMilliseconds': -14400000,\n",
       "    'market': 'us_market',\n",
       "    'esgPopulated': False,\n",
       "    'regularMarketChangePercent': 0.11866606,\n",
       "    'regularMarketPrice': 227.79,\n",
       "    'marketState': 'POST',\n",
       "    'postMarketPrice': 227.5972,\n",
       "    'postMarketChange': -0.1927948,\n",
       "    'regularMarketChange': 0.269989,\n",
       "    'regularMarketTime': 1727467204,\n",
       "    'regularMarketDayHigh': 229.52,\n",
       "    'regularMarketDayRange': '227.3 - 229.52',\n",
       "    'regularMarketDayLow': 227.3,\n",
       "    'regularMarketVolume': 33706549,\n",
       "    'regularMarketPreviousClose': 227.52,\n",
       "    'bid': 227.59,\n",
       "    'ask': 240.09,\n",
       "    'bidSize': 5,\n",
       "    'askSize': 1,\n",
       "    'fullExchangeName': 'NasdaqGS',\n",
       "    'financialCurrency': 'USD',\n",
       "    'regularMarketOpen': 228.43,\n",
       "    'averageDailyVolume3Month': 55583992,\n",
       "    'averageDailyVolume10Day': 76355650,\n",
       "    'fiftyTwoWeekLowChange': 63.70999,\n",
       "    'fiftyTwoWeekLowChangePercent': 0.38828614,\n",
       "    'fiftyTwoWeekRange': '164.08 - 237.23',\n",
       "    'fiftyTwoWeekHighChange': -9.440002,\n",
       "    'fiftyTwoWeekHighChangePercent': -0.039792616,\n",
       "    'fiftyTwoWeekLow': 164.08,\n",
       "    'fiftyTwoWeekHigh': 237.23,\n",
       "    'fiftyTwoWeekChangePercent': 32.88944,\n",
       "    'dividendDate': 1723680000,\n",
       "    'earningsTimestamp': 1722544200,\n",
       "    'earningsTimestampStart': 1730372340,\n",
       "    'earningsTimestampEnd': 1730721600,\n",
       "    'earningsCallTimestampStart': 1722546000,\n",
       "    'earningsCallTimestampEnd': 1722546000,\n",
       "    'isEarningsDateEstimate': True,\n",
       "    'trailingAnnualDividendRate': 0.97,\n",
       "    'trailingPE': 34.724083,\n",
       "    'dividendRate': 1.0,\n",
       "    'trailingAnnualDividendYield': 0.0042633615,\n",
       "    'dividendYield': 0.44,\n",
       "    'epsTrailingTwelveMonths': 6.56,\n",
       "    'epsForward': 7.48,\n",
       "    'epsCurrentYear': 6.7,\n",
       "    'priceEpsCurrentYear': 33.99851,\n",
       "    'sharesOutstanding': 15204100096,\n",
       "    'bookValue': 4.382,\n",
       "    'fiftyDayAverage': 222.0196,\n",
       "    'fiftyDayAverageChange': 5.7703857,\n",
       "    'hasPrePostMarketData': True,\n",
       "    'firstTradeDateMilliseconds': 345479400000,\n",
       "    'priceHint': 2,\n",
       "    'postMarketChangePercent': -0.08463708,\n",
       "    'postMarketTime': 1727474803,\n",
       "    'fiftyDayAverageChangePercent': 0.025990432,\n",
       "    'twoHundredDayAverage': 197.008,\n",
       "    'twoHundredDayAverageChange': 30.781998,\n",
       "    'twoHundredDayAverageChangePercent': 0.15624745,\n",
       "    'marketCap': 3463341932544,\n",
       "    'forwardPE': 30.453207,\n",
       "    'priceToBook': 51.983112,\n",
       "    'sourceInterval': 15,\n",
       "    'exchangeDataDelayedBy': 0,\n",
       "    'averageAnalystRating': '2.0 - Buy',\n",
       "    'tradeable': False,\n",
       "    'cryptoTradeable': False,\n",
       "    'displayName': 'Apple',\n",
       "    'symbol': 'AAPL'}],\n",
       "  'error': None}}"
      ]
     },
     "execution_count": 25,
     "metadata": {},
     "output_type": "execute_result"
    }
   ],
   "source": [
    "load_dotenv()\n",
    "apikey=os.getenv('API_KEY')\n",
    "\n",
    "url = \"https://yfapi.net/v6/finance/quote\"\n",
    "\n",
    "querystring = {\"symbols\":stock}\n",
    "\n",
    "headers = {\n",
    "    'x-api-key': apikey\n",
    "    }\n",
    "\n",
    "response = requests.request(\"GET\", url, headers=headers, params=querystring)\n",
    "\n",
    "response.json()"
   ]
  },
  {
   "cell_type": "code",
   "execution_count": 26,
   "metadata": {},
   "outputs": [
    {
     "name": "stdout",
     "output_type": "stream",
     "text": [
      "{\"Ticker Name\": \"AAPL\"}\n"
     ]
    }
   ],
   "source": [
    "\n",
    "\n",
    "print(json.dumps({\n",
    "            \"Ticker Name\": stock\n",
    "        },))"
   ]
  },
  {
   "cell_type": "code",
   "execution_count": 27,
   "metadata": {},
   "outputs": [
    {
     "data": {
      "text/plain": [
       "{'quoteSummary': {'result': [{'financialData': {'maxAge': 86400,\n",
       "     'currentPrice': {'raw': 227.79, 'fmt': '227.79'},\n",
       "     'targetHighPrice': {'raw': 300.0, 'fmt': '300.00'},\n",
       "     'targetLowPrice': {'raw': 183.86, 'fmt': '183.86'},\n",
       "     'targetMeanPrice': {'raw': 240.58, 'fmt': '240.58'},\n",
       "     'targetMedianPrice': {'raw': 243.0, 'fmt': '243.00'},\n",
       "     'recommendationMean': {'raw': 2.0, 'fmt': '2.00'},\n",
       "     'recommendationKey': 'buy',\n",
       "     'numberOfAnalystOpinions': {'raw': 40, 'fmt': '40', 'longFmt': '40'},\n",
       "     'totalCash': {'raw': 61801000960,\n",
       "      'fmt': '61.8B',\n",
       "      'longFmt': '61,801,000,960'},\n",
       "     'totalCashPerShare': {'raw': 4.065, 'fmt': '4.07'},\n",
       "     'ebitda': {'raw': 131781001216,\n",
       "      'fmt': '131.78B',\n",
       "      'longFmt': '131,781,001,216'},\n",
       "     'totalDebt': {'raw': 101304000512,\n",
       "      'fmt': '101.3B',\n",
       "      'longFmt': '101,304,000,512'},\n",
       "     'quickRatio': {'raw': 0.798, 'fmt': '0.80'},\n",
       "     'currentRatio': {'raw': 0.953, 'fmt': '0.95'},\n",
       "     'totalRevenue': {'raw': 385603010560,\n",
       "      'fmt': '385.6B',\n",
       "      'longFmt': '385,603,010,560'},\n",
       "     'debtToEquity': {'raw': 151.862, 'fmt': '151.86%'},\n",
       "     'revenuePerShare': {'raw': 24.957, 'fmt': '24.96'},\n",
       "     'returnOnAssets': {'raw': 0.22612, 'fmt': '22.61%'},\n",
       "     'returnOnEquity': {'raw': 1.60583, 'fmt': '160.58%'},\n",
       "     'grossProfits': {},\n",
       "     'freeCashflow': {'raw': 86158123008,\n",
       "      'fmt': '86.16B',\n",
       "      'longFmt': '86,158,123,008'},\n",
       "     'operatingCashflow': {'raw': 113040998400,\n",
       "      'fmt': '113.04B',\n",
       "      'longFmt': '113,040,998,400'},\n",
       "     'earningsGrowth': {'raw': 0.111, 'fmt': '11.10%'},\n",
       "     'revenueGrowth': {'raw': 0.049, 'fmt': '4.90%'},\n",
       "     'grossMargins': {'raw': 0.45962003, 'fmt': '45.96%'},\n",
       "     'ebitdaMargins': {'raw': 0.34175, 'fmt': '34.17%'},\n",
       "     'operatingMargins': {'raw': 0.29556, 'fmt': '29.56%'},\n",
       "     'profitMargins': {'raw': 0.26441, 'fmt': '26.44%'},\n",
       "     'financialCurrency': 'USD'}}],\n",
       "  'error': None}}"
      ]
     },
     "execution_count": 27,
     "metadata": {},
     "output_type": "execute_result"
    }
   ],
   "source": [
    "url = \"https://yfapi.net/v11/finance/quoteSummary/\"+stock\n",
    "\n",
    "querystring = {\"modules\":\"financialData\"}\n",
    "\n",
    "headers = {\n",
    "    'x-api-key': apikey\n",
    "    }\n",
    "\n",
    "response_tm = requests.request(\"GET\", url, headers=headers, params=querystring)\n",
    "\n",
    "response_tm.json()"
   ]
  },
  {
   "cell_type": "code",
   "execution_count": 52,
   "metadata": {},
   "outputs": [
    {
     "name": "stdout",
     "output_type": "stream",
     "text": [
      "{\n",
      "    \"Ticker Name\": \"AAPL\",\n",
      "    \"Full Name\": \"Apple Inc.\",\n",
      "    \"Current Market Price\": 227.79,\n",
      "    \"Target Mean Price\": 240.58,\n",
      "    \"52 Week High\": 237.23,\n",
      "    \"52 Week Low\": 164.08\n",
      "}\n"
     ]
    }
   ],
   "source": [
    "\n",
    "data=response.json()\n",
    "data\n",
    "datatm=response_tm.json()\n",
    "stock_data = data['quoteResponse']['result'][0]\n",
    "stocktm_data=datatm['quoteSummary']['result'][0]['financialData']\n",
    "stocktm_data\n",
    "table_data= {\n",
    "                \"Ticker Name\": stock,\n",
    "                \"Full Name\": stock_data['shortName'],\n",
    "                \"Current Market Price\": stock_data['regularMarketPrice'],\n",
    "                \"Target Mean Price\": stocktm_data.get('targetMeanPrice').get('raw'),\n",
    "                \"52 Week High\": stock_data['fiftyTwoWeekHigh'],\n",
    "                \"52 Week Low\": stock_data['fiftyTwoWeekLow']\n",
    "            }\n",
    "\n",
    "print(json.dumps(table_data, indent=4))\n",
    "\n"
   ]
  },
  {
   "cell_type": "code",
   "execution_count": 55,
   "metadata": {},
   "outputs": [
    {
     "data": {
      "text/html": [
       "<div>\n",
       "<style scoped>\n",
       "    .dataframe tbody tr th:only-of-type {\n",
       "        vertical-align: middle;\n",
       "    }\n",
       "\n",
       "    .dataframe tbody tr th {\n",
       "        vertical-align: top;\n",
       "    }\n",
       "\n",
       "    .dataframe thead th {\n",
       "        text-align: right;\n",
       "    }\n",
       "</style>\n",
       "<table border=\"1\" class=\"dataframe\">\n",
       "  <thead>\n",
       "    <tr style=\"text-align: right;\">\n",
       "      <th></th>\n",
       "      <th>Ticker Name</th>\n",
       "      <th>Full Name</th>\n",
       "      <th>Current Market Price</th>\n",
       "      <th>Target Mean Price</th>\n",
       "      <th>52 Week High</th>\n",
       "      <th>52 Week Low</th>\n",
       "    </tr>\n",
       "  </thead>\n",
       "  <tbody>\n",
       "    <tr>\n",
       "      <th>0</th>\n",
       "      <td>AAPL</td>\n",
       "      <td>Apple Inc.</td>\n",
       "      <td>227.79</td>\n",
       "      <td>240.58</td>\n",
       "      <td>237.23</td>\n",
       "      <td>164.08</td>\n",
       "    </tr>\n",
       "  </tbody>\n",
       "</table>\n",
       "</div>"
      ],
      "text/plain": [
       "  Ticker Name   Full Name  Current Market Price  Target Mean Price  \\\n",
       "0        AAPL  Apple Inc.                227.79             240.58   \n",
       "\n",
       "   52 Week High  52 Week Low  \n",
       "0        237.23       164.08  "
      ]
     },
     "execution_count": 55,
     "metadata": {},
     "output_type": "execute_result"
    }
   ],
   "source": [
    "df=pd.DataFrame(table_data, index=[0])\n",
    "df.head()"
   ]
  },
  {
   "cell_type": "code",
   "execution_count": 57,
   "metadata": {},
   "outputs": [],
   "source": [
    "df.to_csv('stock_data.csv', index=False)"
   ]
  }
 ],
 "metadata": {
  "kernelspec": {
   "display_name": "Python 3",
   "language": "python",
   "name": "python3"
  },
  "language_info": {
   "codemirror_mode": {
    "name": "ipython",
    "version": 3
   },
   "file_extension": ".py",
   "mimetype": "text/x-python",
   "name": "python",
   "nbconvert_exporter": "python",
   "pygments_lexer": "ipython3",
   "version": "3.11.2"
  }
 },
 "nbformat": 4,
 "nbformat_minor": 2
}
